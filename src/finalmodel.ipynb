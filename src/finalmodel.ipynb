{
 "cells": [
  {
   "cell_type": "code",
   "execution_count": null,
   "id": "f455b219",
   "metadata": {},
   "outputs": [],
   "source": [
    "import tensorflow as tf\n",
    "gpus = tf.config.list_physical_devices('GPU')\n",
    "if gpus:\n",
    "  try:\n",
    "    # Currently, memory growth needs to be the same across GPUs\n",
    "    for gpu in gpus:\n",
    "      tf.config.experimental.set_memory_growth(gpu, True)\n",
    "    logical_gpus = tf.config.list_logical_devices('GPU')\n",
    "    print(len(gpus), \"Physical GPUs,\", len(logical_gpus), \"Logical GPUs\")\n",
    "  except RuntimeError as e:\n",
    "    # Memory growth must be set before GPUs have been initialized\n",
    "    print(e)\n"
   ]
  },
  {
   "cell_type": "code",
   "execution_count": null,
   "id": "6c45f574",
   "metadata": {},
   "outputs": [],
   "source": [
    "import os\n",
    "\n",
    "\n",
    "EPOCHS = 1000\n",
    "BATCH_SIZE = 8\n",
    "ARCH = \"flor\"\n",
    "\n",
    "IMG_SIZE = (128,32, 1)\n",
    "DATA_ROOT_PATH = \"..\\\\data\"\n",
    "IMAGES_PATH = os.path.join(DATA_ROOT_PATH, \"images\", \"data\")\n",
    "IMAGES_PATH"
   ]
  },
  {
   "cell_type": "code",
   "execution_count": null,
   "id": "f915efde",
   "metadata": {},
   "outputs": [],
   "source": [
    "vocab = None\n",
    "\n",
    "with open(os.path.join(DATA_ROOT_PATH, \"hindi_vocab.txt\"),encoding=\"utf-8\") as f:\n",
    "  vocab = f.readlines()\n",
    "\n",
    "idx_to_vocab = {i:value.strip() for i, value in enumerate(vocab)}\n",
    "vocab_to_idx = {value:key for key, value in idx_to_vocab.items()}"
   ]
  },
  {
   "cell_type": "code",
   "execution_count": null,
   "id": "113fec85",
   "metadata": {},
   "outputs": [],
   "source": [
    "train_data = None\n",
    "\n",
    "with open(os.path.join(DATA_ROOT_PATH, \"new_train.txt\"), encoding=\"utf-8\") as f:\n",
    "  train_data = f.readlines()"
   ]
  },
  {
   "cell_type": "code",
   "execution_count": null,
   "id": "77a4ede1",
   "metadata": {},
   "outputs": [],
   "source": []
  },
  {
   "cell_type": "code",
   "execution_count": null,
   "id": "3870ebae",
   "metadata": {},
   "outputs": [],
   "source": [
    "valid_data = None\n",
    "\n",
    "with open(os.path.join(DATA_ROOT_PATH, \"new_val.txt\"), encoding=\"utf-8\") as f:\n",
    "  valid_data = f.readlines()"
   ]
  },
  {
   "cell_type": "code",
   "execution_count": null,
   "id": "01e965cd",
   "metadata": {},
   "outputs": [],
   "source": [
    "test_data = None\n",
    "\n",
    "with open(os.path.join(DATA_ROOT_PATH, \"new_test.txt\"), encoding=\"utf-8\") as f:\n",
    "  test_data = f.readlines()"
   ]
  },
  {
   "cell_type": "code",
   "execution_count": null,
   "id": "66f3e8ac",
   "metadata": {},
   "outputs": [],
   "source": [
    "test_data1 = None\n",
    "\n",
    "with open(os.path.join(DATA_ROOT_PATH, \"new_te.txt\"), encoding=\"utf-8\") as f:\n",
    "  test_data1 = f.readlines()"
   ]
  },
  {
   "cell_type": "code",
   "execution_count": null,
   "id": "763be9c6",
   "metadata": {},
   "outputs": [],
   "source": [
    "charl = None\n",
    "\n",
    "with open( \"charList.txt\", encoding=\"utf-8\") as f:\n",
    "  charl = f.readlines()"
   ]
  },
  {
   "cell_type": "code",
   "execution_count": null,
   "id": "0ea2f9dc",
   "metadata": {},
   "outputs": [],
   "source": [
    "charl=charl[0]"
   ]
  },
  {
   "cell_type": "code",
   "execution_count": null,
   "id": "696dbd78",
   "metadata": {},
   "outputs": [],
   "source": [
    "charl[9]"
   ]
  },
  {
   "cell_type": "code",
   "execution_count": null,
   "id": "39201a25",
   "metadata": {},
   "outputs": [],
   "source": [
    "len(test_data1)"
   ]
  },
  {
   "cell_type": "code",
   "execution_count": null,
   "id": "79d4bc75",
   "metadata": {},
   "outputs": [],
   "source": [
    "len(train_data)"
   ]
  },
  {
   "cell_type": "code",
   "execution_count": null,
   "id": "e15cf82a",
   "metadata": {},
   "outputs": [],
   "source": [
    "len(valid_data)"
   ]
  },
  {
   "cell_type": "code",
   "execution_count": null,
   "id": "c90152d5",
   "metadata": {},
   "outputs": [],
   "source": [
    "for i in range(4000):\n",
    "    train_data.append(valid_data[i])"
   ]
  },
  {
   "cell_type": "markdown",
   "id": "b68de0b7",
   "metadata": {},
   "source": [
    "# train data labels"
   ]
  },
  {
   "cell_type": "markdown",
   "id": "063b4316",
   "metadata": {},
   "source": [
    "# train data generation"
   ]
  },
  {
   "cell_type": "code",
   "execution_count": null,
   "id": "05b19bab",
   "metadata": {},
   "outputs": [],
   "source": [
    "import numpy as np\n",
    "from tensorflow.keras.preprocessing.image import load_img, img_to_array\n",
    "import tensorflow as tf\n",
    "from PIL import Image, ImageOps\n",
    "from data import preproc as pp"
   ]
  },
  {
   "cell_type": "code",
   "execution_count": null,
   "id": "3c682bf3",
   "metadata": {},
   "outputs": [],
   "source": [
    "\n",
    "##label generator\n",
    "def label_g(l):\n",
    "    label=idx_to_vocab[l]\n",
    "    z=[]\n",
    "    for j in range(27):\n",
    "        z.append(0)\n",
    "    for k in range(len(label)):\n",
    "        for r in range(len(charl)):\n",
    "            if label[k]==charl[r]:\n",
    "                z[k]=r\n",
    "    return z   "
   ]
  },
  {
   "cell_type": "code",
   "execution_count": null,
   "id": "b70735d6",
   "metadata": {},
   "outputs": [],
   "source": [
    "\n",
    "##label generator\n",
    "def label_g1(l):\n",
    "    label=idx_to_vocab[l]\n",
    "    z=[]\n",
    "    for k in range(len(label)):\n",
    "        for r in range(len(charl)):\n",
    "            if label[k]==charl[r]:\n",
    "                z.append(r)\n",
    "    return z   "
   ]
  },
  {
   "cell_type": "code",
   "execution_count": null,
   "id": "8dcde742",
   "metadata": {},
   "outputs": [],
   "source": [
    "train_data[0]"
   ]
  },
  {
   "cell_type": "code",
   "execution_count": null,
   "id": "5664503e",
   "metadata": {},
   "outputs": [],
   "source": []
  },
  {
   "cell_type": "code",
   "execution_count": null,
   "id": "a87fb958",
   "metadata": {},
   "outputs": [],
   "source": [
    "import cv2\n",
    "import numpy as np"
   ]
  },
  {
   "cell_type": "code",
   "execution_count": null,
   "id": "999e70f7",
   "metadata": {},
   "outputs": [],
   "source": [
    "s=np.zeros((8, 27))\n",
    "s"
   ]
  },
  {
   "cell_type": "code",
   "execution_count": null,
   "id": "c59e7bc4",
   "metadata": {},
   "outputs": [],
   "source": [
    "import numpy as np\n",
    "from tensorflow.keras.preprocessing.image import load_img, img_to_array\n",
    "import tensorflow as tf\n",
    "from PIL import Image, ImageOps\n",
    "from data import preproc as pp\n",
    "import cv2\n",
    "\n",
    "class DataGen(tf.keras.utils.Sequence):\n",
    "    def __init__(self, data, img_size, batch_size, mode=\"TRAIN\"):\n",
    "        self.data = data\n",
    "        self.img_size = img_size\n",
    "        self.batch_size = batch_size\n",
    "        self.mode = mode\n",
    "        \n",
    "    def __getitem__(self, i):\n",
    "        start = i * self.batch_size\n",
    "        end = (i+1) * self.batch_size\n",
    "        batch_images = np.zeros((self.batch_size, self.img_size[0], self.img_size[1], 1))\n",
    "        batch_labels = np.zeros((self.batch_size, 27))\n",
    "        #batch_labels =[[],[],[],[],[],[],[],[]]\n",
    "        \n",
    "        for ii, df_index in enumerate(range(start, end)):\n",
    "            curr_data = self.data[df_index].split()\n",
    "            curr_img_path = curr_data[0]\n",
    "            #curr_label = idx_to_vocab[int(curr_data[1])]\n",
    "            curr_label = label_g(int(curr_data[1]))\n",
    "\n",
    "            curr_img_path = \"/\".join(curr_img_path.split(\"/\")[2:])\n",
    "            curr_img_path = os.path.join(IMAGES_PATH, curr_img_path)\n",
    "\n",
    "            \n",
    "            curr_img = pp.preprocess(curr_img_path, self.img_size)\n",
    "            curr_img=cv2.adaptiveThreshold(curr_img, 255, cv2.ADAPTIVE_THRESH_GAUSSIAN_C,cv2.THRESH_BINARY, 199, 5)\n",
    "            #curr_img = tf.image.resize(curr_img, (self.img_size[0], self.img_size[1]), method=\"nearest\")\n",
    "            #curr_img = curr_img.numpy().reshape((self.img_size[0], self.img_size[1],1))\n",
    "            batch_images[ii, :, :,0] = curr_img \n",
    "            batch_labels[ii,:] = curr_label\n",
    "                    \n",
    "        if self.mode == \"TRAIN\":\n",
    "          return batch_images, batch_labels\n",
    "        else:\n",
    "          return batch_images\n",
    "        \n",
    "    def __len__(self):\n",
    "      return len(self.data) // self.batch_size"
   ]
  },
  {
   "cell_type": "code",
   "execution_count": null,
   "id": "6191b856",
   "metadata": {},
   "outputs": [],
   "source": [
    "train_datagen = DataGen(train_data, IMG_SIZE, 8)"
   ]
  },
  {
   "cell_type": "code",
   "execution_count": null,
   "id": "2a13e945",
   "metadata": {},
   "outputs": [],
   "source": [
    "valid_datagen = DataGen(valid_data, IMG_SIZE, 8)"
   ]
  },
  {
   "cell_type": "code",
   "execution_count": null,
   "id": "7f42974b",
   "metadata": {},
   "outputs": [],
   "source": [
    "test_datagen = DataGen(test_data1, IMG_SIZE, 10000)"
   ]
  },
  {
   "cell_type": "code",
   "execution_count": null,
   "id": "e0ec0720",
   "metadata": {},
   "outputs": [],
   "source": [
    "train_datagen[0][1]==train_datagen[1][1]"
   ]
  },
  {
   "cell_type": "markdown",
   "id": "3413c386",
   "metadata": {},
   "source": [
    "# model\n"
   ]
  },
  {
   "cell_type": "code",
   "execution_count": null,
   "id": "47721ed6",
   "metadata": {},
   "outputs": [],
   "source": [
    "import numpy as np\n",
    "import tensorflow as tf\n",
    "from tensorflow.keras import backend as K\n",
    "from tensorflow.keras import Model\n",
    "from tensorflow.keras.constraints import MaxNorm\n",
    "\n",
    "from network.layers import FullGatedConv2D, GatedConv2D, OctConv2D\n",
    "from tensorflow.keras.layers import Conv2D, Bidirectional, LSTM, GRU, Dense\n",
    "from tensorflow.keras.layers import Dropout, BatchNormalization, LeakyReLU, PReLU\n",
    "from tensorflow.keras.layers import Input, Add, Activation, Lambda, MaxPooling2D, Reshape"
   ]
  },
  {
   "cell_type": "code",
   "execution_count": null,
   "id": "18ae36f0",
   "metadata": {},
   "outputs": [],
   "source": [
    "from datetime import datetime"
   ]
  },
  {
   "cell_type": "code",
   "execution_count": null,
   "id": "86ed9706",
   "metadata": {},
   "outputs": [],
   "source": [
    "output_path = os.path.join(\"..\", \"output\",str(datetime.now()), ARCH)\n",
    "target_path = os.path.join(output_path, \"checkpoint_weights.hdf5\")"
   ]
  },
  {
   "cell_type": "code",
   "execution_count": null,
   "id": "24be974f",
   "metadata": {},
   "outputs": [],
   "source": [
    "datetime.now()"
   ]
  },
  {
   "cell_type": "code",
   "execution_count": null,
   "id": "b515e23a",
   "metadata": {},
   "outputs": [],
   "source": [
    "from network.model1 import HTRModel\n",
    "\n",
    "# create and compile HTRModel\n",
    "model = HTRModel(architecture=ARCH,\n",
    "                 input_size=IMG_SIZE,\n",
    "                 vocab_size=110,\n",
    "                 beam_width=10,\n",
    "                 stop_tolerance=20,\n",
    "                 reduce_tolerance=15,\n",
    "                 reduce_factor=0.1)\n",
    "\n",
    "model.compile(learning_rate=0.001)\n",
    "model.summary(output_path, \"summary.txt\")\n",
    "\n",
    "#callbacks = model.get_callbacks(logdir=output_path, checkpoint=target_path, verbose=1)"
   ]
  },
  {
   "cell_type": "code",
   "execution_count": null,
   "id": "996b6975",
   "metadata": {
    "scrolled": false
   },
   "outputs": [],
   "source": [
    "start_time = datetime.now()\n",
    "\n",
    "model.fit(x=train_datagen,\n",
    "              epochs=EPOCHS,\n",
    "          validation_data=valid_datagen,\n",
    "              \n",
    "              verbose=1)\n",
    "total_time = datetime.now() - start_time\n",
    "\n",
    "print(\"total time\",total_time)"
   ]
  },
  {
   "cell_type": "code",
   "execution_count": null,
   "id": "535e27ab",
   "metadata": {},
   "outputs": [],
   "source": [
    "xt=test_datagen[0][0]\n",
    "yt=test_datagen[0][1]"
   ]
  },
  {
   "cell_type": "code",
   "execution_count": null,
   "id": "46062c13",
   "metadata": {},
   "outputs": [],
   "source": [
    "predicts, _ = model.predict(x=xt,\n",
    "                            ctc_decode=True,\n",
    "                            verbose=1)"
   ]
  },
  {
   "cell_type": "code",
   "execution_count": null,
   "id": "31bfff8e",
   "metadata": {},
   "outputs": [],
   "source": [
    "len(predicts[0])"
   ]
  },
  {
   "cell_type": "code",
   "execution_count": null,
   "id": "a7f9ef1a",
   "metadata": {},
   "outputs": [],
   "source": [
    "predicts[1][0]"
   ]
  },
  {
   "cell_type": "code",
   "execution_count": null,
   "id": "9e88242f",
   "metadata": {},
   "outputs": [],
   "source": [
    "def convert(predicts):\n",
    "    a=[]\n",
    "    b=[]\n",
    "    for i in range(len(predicts)):\n",
    "        b=[]\n",
    "        for j in range(len(predicts[i][0])):\n",
    "            b.append(charl[predicts[i][0][j]])\n",
    "        a.append(b)\n",
    "    return a"
   ]
  },
  {
   "cell_type": "code",
   "execution_count": null,
   "id": "af1d19d5",
   "metadata": {},
   "outputs": [],
   "source": [
    "def convert1(predicts):\n",
    "    a=[]\n",
    "    b=[]\n",
    "    for i in range(len(predicts)):\n",
    "        b=[]\n",
    "        for j in range(len(predicts[i])):\n",
    "            b.append(charl[int(predicts[i][j])])\n",
    "        a.append(b)\n",
    "    return a"
   ]
  },
  {
   "cell_type": "code",
   "execution_count": null,
   "id": "754b41fa",
   "metadata": {},
   "outputs": [],
   "source": [
    "def trim(yt):\n",
    "    yt1=[]\n",
    "    for i in range(len(yt)):\n",
    "        k=0\n",
    "        for j in range(26,0,-1):\n",
    "            if yt[i][j]!=0:\n",
    "                yt1.append(yt[i][0:j+1])\n",
    "                k=1\n",
    "                break\n",
    "        if k==0:\n",
    "            yt1.append([0])\n",
    "    return yt1"
   ]
  },
  {
   "cell_type": "code",
   "execution_count": null,
   "id": "302c3f95",
   "metadata": {},
   "outputs": [],
   "source": [
    "yt1=trim(yt)"
   ]
  },
  {
   "cell_type": "code",
   "execution_count": null,
   "id": "c4c9021a",
   "metadata": {},
   "outputs": [],
   "source": [
    "len(yt1[0])"
   ]
  },
  {
   "cell_type": "code",
   "execution_count": null,
   "id": "c47b0cb3",
   "metadata": {},
   "outputs": [],
   "source": [
    "len(yt[0])"
   ]
  },
  {
   "cell_type": "code",
   "execution_count": null,
   "id": "a0fee033",
   "metadata": {},
   "outputs": [],
   "source": [
    "yt1[0][1]"
   ]
  },
  {
   "cell_type": "code",
   "execution_count": null,
   "id": "b7b28b98",
   "metadata": {},
   "outputs": [],
   "source": [
    "predicts1=convert(predicts)"
   ]
  },
  {
   "cell_type": "code",
   "execution_count": null,
   "id": "caf6fecc",
   "metadata": {},
   "outputs": [],
   "source": [
    "gt=convert1(yt1)"
   ]
  },
  {
   "cell_type": "code",
   "execution_count": null,
   "id": "013ec780",
   "metadata": {},
   "outputs": [],
   "source": [
    "from data import evaluation"
   ]
  },
  {
   "cell_type": "code",
   "execution_count": null,
   "id": "3c3cd9e0",
   "metadata": {},
   "outputs": [],
   "source": [
    "\n",
    "import string\n",
    "import unicodedata\n",
    "import editdistance\n",
    "import numpy as np\n",
    "\n",
    "\n",
    "def ocr_metrics(predicts, ground_truth, norm_accentuation=False, norm_punctuation=False):\n",
    "    \"\"\"Calculate Character Error Rate (CER), Word Error Rate (WER) and Sequence Error Rate (SER)\"\"\"\n",
    "\n",
    "    if len(predicts) == 0 or len(ground_truth) == 0:\n",
    "        return (1, 1, 1)\n",
    "\n",
    "    cer, wer, ser = [], [], []\n",
    "\n",
    "    for (pd, gt) in zip(predicts, ground_truth):\n",
    "        '''pd, gt = pd.lower(), gt.lower()\n",
    "\n",
    "        if norm_accentuation:\n",
    "            pd = unicodedata.normalize(\"NFKD\", pd).encode(\"ASCII\", \"ignore\").decode(\"ASCII\")\n",
    "            gt = unicodedata.normalize(\"NFKD\", gt).encode(\"ASCII\", \"ignore\").decode(\"ASCII\")\n",
    "\n",
    "        if norm_punctuation:\n",
    "            pd = pd.translate(str.maketrans(\"\", \"\", string.punctuation))\n",
    "            gt = gt.translate(str.maketrans(\"\", \"\", string.punctuation))\n",
    "\t'''\n",
    "        pd_cer, gt_cer = list(pd), list(gt)\n",
    "        dist = editdistance.eval(pd_cer, gt_cer)\n",
    "        cer.append(dist / (max(len(pd_cer), len(gt_cer))))\n",
    "        '''\n",
    "        pd_wer, gt_wer = pd, gt\n",
    "        dist = editdistance.eval(pd_wer, gt_wer)\n",
    "        wer.append(dist / (max(len(pd_wer), len(gt_wer))))\n",
    "        \n",
    "        pd_ser, gt_ser = [pd], [gt]\n",
    "        dist = editdistance.eval(pd_ser, gt_ser)\n",
    "        ser.append(dist / (max(len(pd_ser), len(gt_ser))))\n",
    "        '''\n",
    "    metrics = [cer]\n",
    "    metrics = np.mean(metrics, axis=1)\n",
    "\n",
    "    return metrics"
   ]
  },
  {
   "cell_type": "code",
   "execution_count": null,
   "id": "e47a37a6",
   "metadata": {},
   "outputs": [],
   "source": [
    "file5=open('florcer1000.txt','w')"
   ]
  },
  {
   "cell_type": "code",
   "execution_count": null,
   "id": "33e23217",
   "metadata": {},
   "outputs": [],
   "source": [
    "evaluate = ocr_metrics(predicts=predicts1,\n",
    "                                  ground_truth=gt,)\n",
    " \n",
    "print(\"Calculate Character Error Rate {} \".format(evaluate[0],))\n",
    "file5.write(str(evaluate[0]))\n",
    "file5.close()"
   ]
  },
  {
   "cell_type": "code",
   "execution_count": null,
   "id": "95e140a1",
   "metadata": {},
   "outputs": [],
   "source": [
    "predicts1[0]"
   ]
  },
  {
   "cell_type": "code",
   "execution_count": null,
   "id": "4d38494d",
   "metadata": {},
   "outputs": [],
   "source": []
  },
  {
   "cell_type": "code",
   "execution_count": null,
   "id": "7e688e75",
   "metadata": {},
   "outputs": [],
   "source": [
    "predict_path = os.path.join(\"..\", \"predict\")"
   ]
  },
  {
   "cell_type": "code",
   "execution_count": null,
   "id": "a1c4f205",
   "metadata": {},
   "outputs": [],
   "source": [
    "for i in "
   ]
  },
  {
   "cell_type": "code",
   "execution_count": null,
   "id": "447278dd",
   "metadata": {},
   "outputs": [],
   "source": []
  },
  {
   "cell_type": "code",
   "execution_count": null,
   "id": "6cb76767",
   "metadata": {},
   "outputs": [],
   "source": [
    "ground_t_p=os.path.join(\"..\", \"predict\",ARCH)"
   ]
  },
  {
   "cell_type": "code",
   "execution_count": null,
   "id": "27dbf28f",
   "metadata": {},
   "outputs": [],
   "source": [
    "ground_t_p"
   ]
  },
  {
   "cell_type": "code",
   "execution_count": null,
   "id": "814830eb",
   "metadata": {},
   "outputs": [],
   "source": [
    "file1=open('flor1predict_ground','w')"
   ]
  },
  {
   "cell_type": "code",
   "execution_count": null,
   "id": "4580f907",
   "metadata": {},
   "outputs": [],
   "source": [
    "for i in range(len(predicts1)):\n",
    "    for j in range(len(gt[i])):\n",
    "        file1.write(gt[i][j])"
   ]
  },
  {
   "cell_type": "code",
   "execution_count": null,
   "id": "9c85d0a2",
   "metadata": {},
   "outputs": [],
   "source": [
    "for i in range(len(predicts1)):\n",
    "    for j in range(len(gt[i])):\n",
    "        file1.write(gt[i][j])"
   ]
  },
  {
   "cell_type": "code",
   "execution_count": null,
   "id": "369773fc",
   "metadata": {},
   "outputs": [],
   "source": [
    "for i in range(len(predicts1)):\n",
    "    for j in range(len(gt[i])):\n",
    "        file1.write(gt[i][j])\n",
    "    file1.write('\\n')\n",
    "    for j in range(len(predicts1[i])):\n",
    "        file1.write(predicts1[i][j])\n",
    "    file1.write('\\n')"
   ]
  },
  {
   "cell_type": "code",
   "execution_count": null,
   "id": "5fe90a50",
   "metadata": {},
   "outputs": [],
   "source": [
    "file1.close()"
   ]
  },
  {
   "cell_type": "code",
   "execution_count": null,
   "id": "f5886a58",
   "metadata": {},
   "outputs": [],
   "source": [
    "file2=open('flor1ground_t','w')"
   ]
  },
  {
   "cell_type": "code",
   "execution_count": null,
   "id": "c1b7ad9c",
   "metadata": {},
   "outputs": [],
   "source": [
    "for i in range(len(gt)):\n",
    "    for j in range(len(gt[i])):\n",
    "        file2.write(gt[i][j])\n",
    "    file2.write('\\n')"
   ]
  },
  {
   "cell_type": "code",
   "execution_count": null,
   "id": "2353a33e",
   "metadata": {},
   "outputs": [],
   "source": [
    "file2.close()"
   ]
  },
  {
   "cell_type": "code",
   "execution_count": null,
   "id": "1852867d",
   "metadata": {},
   "outputs": [],
   "source": []
  },
  {
   "cell_type": "code",
   "execution_count": null,
   "id": "2ab536e3",
   "metadata": {},
   "outputs": [],
   "source": [
    "file3=open('flor1predict1','w')"
   ]
  },
  {
   "cell_type": "code",
   "execution_count": null,
   "id": "9af38090",
   "metadata": {},
   "outputs": [],
   "source": [
    "for i in range(len(predicts1)):\n",
    "    for j in range(len(predicts1[i])):\n",
    "        file3.write(predicts1[i][j])\n",
    "    file3.write('\\n')"
   ]
  },
  {
   "cell_type": "code",
   "execution_count": null,
   "id": "b83b1742",
   "metadata": {},
   "outputs": [],
   "source": [
    "file3.close()"
   ]
  },
  {
   "cell_type": "code",
   "execution_count": null,
   "id": "a126e5a6",
   "metadata": {},
   "outputs": [],
   "source": []
  },
  {
   "cell_type": "code",
   "execution_count": null,
   "id": "bbe5b91d",
   "metadata": {},
   "outputs": [],
   "source": []
  },
  {
   "cell_type": "code",
   "execution_count": null,
   "id": "01a95953",
   "metadata": {},
   "outputs": [],
   "source": [
    "import string\n",
    "import seaborn as sn\n",
    "import pandas as pd\n",
    "import matplotlib.pyplot as plt\n",
    "import string\n",
    "import numpy as np\n",
    "\n"
   ]
  },
  {
   "cell_type": "code",
   "execution_count": null,
   "id": "505820aa",
   "metadata": {},
   "outputs": [],
   "source": [
    "\n",
    "def alg4(word1,word2):\n",
    "  M=[[float('inf')]*(len(word2)+1) for i in range(len(word1)+1)]\n",
    "          \n",
    "  #filling last row\n",
    "  for i in range(len(word2)+1):\n",
    "    M[len(word1)][i]=len(word2)-i\n",
    "          \n",
    "  #filling last column\n",
    "  for j in range(len(word1)+1):\n",
    "    M[j][len(word2)]=len(word1)-j\n",
    "              \n",
    "  #filling bottom to up manner\n",
    "          \n",
    "  for i in range(len(word1)-1,-1,-1):\n",
    "    for j in range(len(word2)-1,-1,-1):\n",
    "      if word1[i]==word2[j]:\n",
    "        M[i][j]=M[i+1][j+1]\n",
    "      else:\n",
    "        M[i][j]=1+min(M[i+1][j],M[i][j+1],M[i+1][j+1])\n",
    "\n",
    "  x,y=0,0\n",
    "  #print(x,y)\n",
    "  count=0\n",
    "  while x<len(M)-1 and y<len(M[0])-1:\n",
    "    current=M[x][y]\n",
    "    dia=M[x+1][y+1]\n",
    "    right=M[x][y+1]\n",
    "    bottom=M[x+1][y]\n",
    "    if dia<=right and dia<=bottom and dia<=current:\n",
    "      if dia==current-1:\n",
    "        print(\"Substitution-->\",word1[x],\"replaced by\",word2[y])\n",
    "        #array[string.printable[:95].find(word1[x]),string.printable[:95].find(word2[y])]=array[string.printable[:95].find(word1[x]),string.printable[:95].find(word2[y])]+1\n",
    "        sub[dict1[word1[x]]]=sub[dict1[word1[x]]]+1\n",
    "        subs[dict1[word2[x]]][dict1[word1[x]]]=subs[dict1[word2[x]]][dict1[word1[x]]]+1\n",
    "        count=count+1\n",
    "        x=x+1\n",
    "        y=y+1\n",
    "      else:\n",
    "        print(\"No operation-->\",word1[x])\n",
    "        x=x+1\n",
    "        y=y+1\n",
    "      \n",
    "    elif right<=bottom and right<=current:\n",
    "      print(\"Insertion\",word2[y])\n",
    "      ins[dict1[word2[y]]]=ins[dict1[word2[y]]]+1\n",
    "\n",
    "      count=count+1\n",
    "      y=y+1\n",
    "    else:\n",
    "      print(\"Deletion\",word1[x])\n",
    "      delete[dict1[word1[x]]]=delete[dict1[word1[x]]]+1\n",
    "      x=x+1\n",
    "      count=count+1\n",
    "  print(\"total operations\",count)\n",
    "  "
   ]
  },
  {
   "cell_type": "code",
   "execution_count": null,
   "id": "d1150ed8",
   "metadata": {},
   "outputs": [],
   "source": [
    "delete=[]\n",
    "ins=[]\n",
    "sub=[]\n",
    "\n",
    "for i in range(len(charl)+1):\n",
    "    delete.append(0)\n",
    "    ins.append(0)\n",
    "    sub.append(0)"
   ]
  },
  {
   "cell_type": "code",
   "execution_count": null,
   "id": "f2c4f941",
   "metadata": {},
   "outputs": [],
   "source": [
    "for i in range(len(gt)):\n",
    "    s1=\"\"\n",
    "    for j in range(len(gt[i])):\n",
    "        s1=s1+gt[i][j]\n",
    "    s2=\"\"\n",
    "    for j in range(len(predicts1[i])):\n",
    "        s2=s2+predicts1[i][j]\n",
    "    alg4(s2,s1)"
   ]
  },
  {
   "cell_type": "code",
   "execution_count": null,
   "id": "51f66db5",
   "metadata": {},
   "outputs": [],
   "source": []
  },
  {
   "cell_type": "code",
   "execution_count": null,
   "id": "0804a1d4",
   "metadata": {},
   "outputs": [],
   "source": [
    "file1=open('flor1delete.txt','w')\n",
    "file2=open('flor1ins.txt','w')\n",
    "file3=open('flor1sub.txt','w')"
   ]
  },
  {
   "cell_type": "code",
   "execution_count": null,
   "id": "3172506c",
   "metadata": {},
   "outputs": [],
   "source": [
    "for i in range(len(charl)):\n",
    "    print(charl[i])\n",
    "    file1.write(charl[i])\n",
    "    file1.write('\\n')\n",
    "    file1.write(str(delete[i]))\n",
    "    file1.write('\\n')\n",
    "    file2.write(charl[i])\n",
    "    file2.write('\\n')\n",
    "    file2.write(str(ins[i]))\n",
    "    file2.write('\\n')\n",
    "    file3.write(charl[i])\n",
    "    file3.write('\\n')\n",
    "    file3.write(str(sub[i]))\n",
    "    file3.write('\\n')\n",
    "    "
   ]
  },
  {
   "cell_type": "code",
   "execution_count": null,
   "id": "3102f19a",
   "metadata": {},
   "outputs": [],
   "source": [
    "file1.close()\n",
    "file2.close()\n",
    "file3.close()"
   ]
  },
  {
   "cell_type": "code",
   "execution_count": null,
   "id": "c4de5377",
   "metadata": {},
   "outputs": [],
   "source": [
    "subs=[]\n",
    "for i in range(len(charl)):\n",
    "    z=[]\n",
    "    for j in range(len(charl)):\n",
    "        z.append(0)\n",
    "    subs.append(z)"
   ]
  },
  {
   "cell_type": "code",
   "execution_count": null,
   "id": "56ab3756",
   "metadata": {},
   "outputs": [],
   "source": [
    "for i in range(len(charl)):\n",
    "    \n",
    "    for j in range(len(charl)):\n",
    "        if subs[i][j]!=0:\n",
    "            print(subs[i][j])"
   ]
  },
  {
   "cell_type": "code",
   "execution_count": null,
   "id": "e63a8dcc",
   "metadata": {},
   "outputs": [],
   "source": [
    "len(charl)"
   ]
  },
  {
   "cell_type": "code",
   "execution_count": null,
   "id": "aedc3439",
   "metadata": {},
   "outputs": [],
   "source": [
    "dict1={}\n",
    "for i in range(len(charl)):\n",
    "    dict1[charl[i]]=i"
   ]
  },
  {
   "cell_type": "code",
   "execution_count": null,
   "id": "389b777d",
   "metadata": {},
   "outputs": [],
   "source": [
    "dict1"
   ]
  },
  {
   "cell_type": "code",
   "execution_count": null,
   "id": "b7c7d632",
   "metadata": {},
   "outputs": [],
   "source": [
    "s1=\"\"\n",
    "for j in range(len(gt[70])):\n",
    "    s1=s1+gt[70][j]"
   ]
  },
  {
   "cell_type": "code",
   "execution_count": null,
   "id": "525183b9",
   "metadata": {},
   "outputs": [],
   "source": [
    "s2=\"\"\n",
    "for j in range(len(predicts1[70])):\n",
    "    s2=s2+predicts1[70][j]"
   ]
  },
  {
   "cell_type": "code",
   "execution_count": null,
   "id": "a8790379",
   "metadata": {},
   "outputs": [],
   "source": [
    "alg4(s1,s2)"
   ]
  },
  {
   "cell_type": "code",
   "execution_count": null,
   "id": "a95bea55",
   "metadata": {},
   "outputs": [],
   "source": []
  },
  {
   "cell_type": "code",
   "execution_count": null,
   "id": "8a8f3915",
   "metadata": {},
   "outputs": [],
   "source": [
    "file4=open('flor1subsc.txt','w')"
   ]
  },
  {
   "cell_type": "code",
   "execution_count": null,
   "id": "68c324d6",
   "metadata": {},
   "outputs": [],
   "source": [
    "for i in range(len(subs)):\n",
    "    for j in range(len(subs)):\n",
    "        file4.write(str(subs[i][j]))\n",
    "        file4.write(\" \")\n",
    "    file4.write('\\n')"
   ]
  },
  {
   "cell_type": "code",
   "execution_count": null,
   "id": "67161faa",
   "metadata": {},
   "outputs": [],
   "source": [
    "file4.close()"
   ]
  },
  {
   "cell_type": "code",
   "execution_count": null,
   "id": "a3edf101",
   "metadata": {},
   "outputs": [],
   "source": []
  },
  {
   "cell_type": "code",
   "execution_count": null,
   "id": "b6964ed6",
   "metadata": {},
   "outputs": [],
   "source": [
    "gt[70]"
   ]
  },
  {
   "cell_type": "code",
   "execution_count": null,
   "id": "0ab4d1fc",
   "metadata": {},
   "outputs": [],
   "source": [
    "predicts1[70]"
   ]
  },
  {
   "cell_type": "markdown",
   "id": "c29b4459",
   "metadata": {},
   "source": [
    "# charlist generation\n"
   ]
  },
  {
   "cell_type": "code",
   "execution_count": null,
   "id": "fb4cc6ec",
   "metadata": {},
   "outputs": [],
   "source": []
  },
  {
   "cell_type": "code",
   "execution_count": null,
   "id": "e979413d",
   "metadata": {},
   "outputs": [],
   "source": []
  },
  {
   "cell_type": "code",
   "execution_count": null,
   "id": "3df3eaea",
   "metadata": {},
   "outputs": [],
   "source": []
  },
  {
   "cell_type": "code",
   "execution_count": null,
   "id": "cf895ebd",
   "metadata": {},
   "outputs": [],
   "source": []
  },
  {
   "cell_type": "code",
   "execution_count": null,
   "id": "19835df7",
   "metadata": {},
   "outputs": [],
   "source": []
  }
 ],
 "metadata": {
  "kernelspec": {
   "display_name": "Python 3 (ipykernel)",
   "language": "python",
   "name": "python3"
  },
  "language_info": {
   "codemirror_mode": {
    "name": "ipython",
    "version": 3
   },
   "file_extension": ".py",
   "mimetype": "text/x-python",
   "name": "python",
   "nbconvert_exporter": "python",
   "pygments_lexer": "ipython3",
   "version": "3.11.9"
  }
 },
 "nbformat": 4,
 "nbformat_minor": 5
}
