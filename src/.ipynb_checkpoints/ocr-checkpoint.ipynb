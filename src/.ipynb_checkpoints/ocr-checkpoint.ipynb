{
 "cells": [
  {
   "cell_type": "code",
   "execution_count": null,
   "metadata": {
    "id": "-9UyXIFDRiJr"
   },
   "outputs": [],
   "source": [
    "import tensorflow as tf"
   ]
  },
  {
   "cell_type": "code",
   "execution_count": 74,
   "metadata": {
    "executionInfo": {
     "elapsed": 486,
     "status": "ok",
     "timestamp": 1675796799464,
     "user": {
      "displayName": "Sashank Talakola",
      "userId": "02689646799645405701"
     },
     "user_tz": -330
    },
    "id": "Am6phQ68_LmL"
   },
   "outputs": [],
   "source": [
    "import os\n",
    "\n",
    "EPOCHS = 1000\n",
    "BATCH_SIZE = 16\n",
    "ARCH = \"flor\"\n",
    "\n",
    "IMG_SIZE = (1024, 128, 1)\n",
    "DATA_ROOT_PATH = \"/content/ocr/data/\"\n",
    "IMAGES_PATH = os.path.join(DATA_ROOT_PATH, \"images\", \"data\")"
   ]
  },
  {
   "cell_type": "code",
   "execution_count": 94,
   "metadata": {
    "executionInfo": {
     "elapsed": 4,
     "status": "ok",
     "timestamp": 1675797878510,
     "user": {
      "displayName": "Sashank Talakola",
      "userId": "02689646799645405701"
     },
     "user_tz": -330
    },
    "id": "I5TU-g6rVY13"
   },
   "outputs": [],
   "source": [
    "vocab = [str(vocab_to_idx[item.strip()]) for item in vocab]"
   ]
  },
  {
   "cell_type": "code",
   "execution_count": 96,
   "metadata": {
    "executionInfo": {
     "elapsed": 3,
     "status": "ok",
     "timestamp": 1675797933415,
     "user": {
      "displayName": "Sashank Talakola",
      "userId": "02689646799645405701"
     },
     "user_tz": -330
    },
    "id": "Hzj4IYNHVl5U"
   },
   "outputs": [],
   "source": [
    "new_vocab = \"\\n\".join(vocab)\n",
    "\n",
    "with open(\"new_voc.txt\",\"w\") as f:\n",
    "  f.write(new_vocab)"
   ]
  },
  {
   "cell_type": "code",
   "execution_count": 38,
   "metadata": {
    "executionInfo": {
     "elapsed": 4,
     "status": "ok",
     "timestamp": 1675793399281,
     "user": {
      "displayName": "Sashank Talakola",
      "userId": "02689646799645405701"
     },
     "user_tz": -330
    },
    "id": "lQ9We68aD0XI"
   },
   "outputs": [],
   "source": [
    "gvocab = None\n",
    "\n",
    "with open(os.path.join(DATA_ROOT_PATH, \"hindi_vocab.txt\")) as f:\n",
    "  vocab = f.readlines()\n",
    "\n",
    "idx_to_vocab = {i:value.strip() for i, value in enumerate(vocab)}\n",
    "vocab_to_idx = {value:key for key, value in idx_to_vocab.items()}"
   ]
  },
  {
   "cell_type": "code",
   "execution_count": 87,
   "metadata": {
    "executionInfo": {
     "elapsed": 506,
     "status": "ok",
     "timestamp": 1675797266153,
     "user": {
      "displayName": "Sashank Talakola",
      "userId": "02689646799645405701"
     },
     "user_tz": -330
    },
    "id": "ZUcRe843Jrbb"
   },
   "outputs": [],
   "source": [
    "train_data = None\n",
    "\n",
    "with open(\"/content/ocr/data/test.txt\") as f:\n",
    "  train_data = f.readlines()"
   ]
  },
  {
   "cell_type": "code",
   "execution_count": 78,
   "metadata": {
    "colab": {
     "base_uri": "https://localhost:8080/"
    },
    "executionInfo": {
     "elapsed": 3,
     "status": "ok",
     "timestamp": 1675797027660,
     "user": {
      "displayName": "Sashank Talakola",
      "userId": "02689646799645405701"
     },
     "user_tz": -330
    },
    "id": "gx33KuNjSQyH",
    "outputId": "6afd4896-b387-4d8c-940d-6698db548ad3"
   },
   "outputs": [
    {
     "data": {
      "text/plain": [
       "['HindiSeg/train/10/259/1.jpg', 'हांगकांग']"
      ]
     },
     "execution_count": 78,
     "metadata": {},
     "output_type": "execute_result"
    }
   ],
   "source": [
    "train_data[0].split()"
   ]
  },
  {
   "cell_type": "code",
   "execution_count": 90,
   "metadata": {
    "executionInfo": {
     "elapsed": 4,
     "status": "ok",
     "timestamp": 1675797287470,
     "user": {
      "displayName": "Sashank Talakola",
      "userId": "02689646799645405701"
     },
     "user_tz": -330
    },
    "id": "JjPj-th1R5dB"
   },
   "outputs": [],
   "source": [
    "train_data_new = \"\"\n",
    "\n",
    "for item in train_data:\n",
    "  path, label = item.split()\n",
    "  label = vocab_to_idx[label]\n",
    "  line = \" \".join([path, str(label)])\n",
    "  line +=\"\\n\"\n",
    "  train_data_new += line"
   ]
  },
  {
   "cell_type": "code",
   "execution_count": 91,
   "metadata": {
    "executionInfo": {
     "elapsed": 666,
     "status": "ok",
     "timestamp": 1675797292767,
     "user": {
      "displayName": "Sashank Talakola",
      "userId": "02689646799645405701"
     },
     "user_tz": -330
    },
    "id": "YUJwZ93kSkan"
   },
   "outputs": [],
   "source": [
    "with open(\"new_test.txt\", \"w\") as f:\n",
    "  f.write(train_data_new)"
   ]
  },
  {
   "cell_type": "code",
   "execution_count": 68,
   "metadata": {
    "executionInfo": {
     "elapsed": 4,
     "status": "ok",
     "timestamp": 1675794577920,
     "user": {
      "displayName": "Sashank Talakola",
      "userId": "02689646799645405701"
     },
     "user_tz": -330
    },
    "id": "dRt0d2H9Avkx"
   },
   "outputs": [],
   "source": [
    "import numpy as np\n",
    "from tensorflow.keras.preprocessing.image import load_img, img_to_array\n",
    "from sklearn.model_selection import train_test_split\n",
    "import tensorflow as tf\n",
    "\n",
    "class DataGen(tf.keras.utils.Sequence):\n",
    "    def __init__(self, data, img_size, batch_size, mode=\"TRAIN\"):\n",
    "        self.data = data\n",
    "        self.img_size = img_size\n",
    "        self.batch_size = batch_size\n",
    "        self.mode = mode\n",
    "        \n",
    "    def __getitem__(self, i):\n",
    "        start = i * self.batch_size\n",
    "        end = (i+1) * self.batch_size\n",
    "        \n",
    "        batch_images = np.zeros((self.batch_size, self.img_size[0], self.img_size[1], 1))\n",
    "        batch_labels = np.zeros((self.batch_size, 1))\n",
    "        \n",
    "        for ii, df_index in enumerate(range(start, end)):\n",
    "            curr_data = self.data[ii].split()\n",
    "            curr_img_path = curr_data[0]\n",
    "            curr_label = vocab_to_idx[curr_data[1]]\n",
    "\n",
    "            curr_img_path = \"/\".join(curr_img_path.split(\"/\")[2:])\n",
    "            curr_img_path = os.path.join(IMAGES_PATH, curr_img_path)\n",
    "            \n",
    "            curr_img = img_to_array(load_img(curr_img_path, color_mode=\"grayscale\"))\n",
    "            img_shape = curr_img.shape\n",
    "            \n",
    "            curr_img = tf.image.resize(curr_img, (self.img_size[0], self.img_size[1]), method=\"nearest\")\n",
    "            curr_img = curr_img.numpy().reshape((self.img_size[0], self.img_size[1]))\n",
    "            batch_images[ii, :, :, 0] = curr_img / 255.\n",
    "            batch_labels[ii, :] = curr_label\n",
    "                    \n",
    "        if self.mode == \"TRAIN\":\n",
    "          return batch_images, batch_labels\n",
    "        else:\n",
    "          return batch_images\n",
    "        \n",
    "    def __len__(self):\n",
    "      return len(self.data) // self.batch_size"
   ]
  },
  {
   "cell_type": "code",
   "execution_count": 103,
   "metadata": {
    "executionInfo": {
     "elapsed": 13169,
     "status": "ok",
     "timestamp": 1675798830771,
     "user": {
      "displayName": "Sashank Talakola",
      "userId": "02689646799645405701"
     },
     "user_tz": -330
    },
    "id": "NFFyK-HJXsja"
   },
   "outputs": [],
   "source": [
    "!cp ocr.zip ./drive/MyDrive/Project/"
   ]
  }
 ],
 "metadata": {
  "colab": {
   "authorship_tag": "ABX9TyPOdLZMi1Q/t0u43uOvcn2h",
   "provenance": []
  },
  "kernelspec": {
   "display_name": "Python 3",
   "language": "python",
   "name": "python3"
  },
  "language_info": {
   "codemirror_mode": {
    "name": "ipython",
    "version": 3
   },
   "file_extension": ".py",
   "mimetype": "text/x-python",
   "name": "python",
   "nbconvert_exporter": "python",
   "pygments_lexer": "ipython3",
   "version": "3.8.8"
  }
 },
 "nbformat": 4,
 "nbformat_minor": 1
}
