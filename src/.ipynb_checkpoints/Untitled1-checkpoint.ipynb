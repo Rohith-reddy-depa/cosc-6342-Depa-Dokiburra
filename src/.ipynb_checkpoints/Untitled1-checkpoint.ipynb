{
 "cells": [
  {
   "cell_type": "code",
   "execution_count": null,
   "id": "75eb790b",
   "metadata": {},
   "outputs": [],
   "source": []
  },
  {
   "cell_type": "code",
   "execution_count": null,
   "id": "7784d5d0",
   "metadata": {},
   "outputs": [],
   "source": []
  },
  {
   "cell_type": "code",
   "execution_count": null,
   "id": "36468547",
   "metadata": {},
   "outputs": [],
   "source": []
  },
  {
   "cell_type": "code",
   "execution_count": null,
   "id": "8df314fb",
   "metadata": {},
   "outputs": [],
   "source": []
  },
  {
   "cell_type": "code",
   "execution_count": 27,
   "id": "bb5733f4",
   "metadata": {},
   "outputs": [
    {
     "data": {
      "text/plain": [
       "'../data\\\\images\\\\data'"
      ]
     },
     "execution_count": 27,
     "metadata": {},
     "output_type": "execute_result"
    }
   ],
   "source": [
    "import os\n",
    "\n",
    "\n",
    "EPOCHS = 1000\n",
    "BATCH_SIZE = 8\n",
    "ARCH = \"flor\"\n",
    "\n",
    "IMG_SIZE = (128,32, 1)\n",
    "DATA_ROOT_PATH = \"../data\"\n",
    "IMAGES_PATH = os.path.join(DATA_ROOT_PATH, \"images\", \"data\")\n",
    "IMAGES_PATH"
   ]
  },
  {
   "cell_type": "code",
   "execution_count": 35,
   "id": "1f2a4f97",
   "metadata": {},
   "outputs": [],
   "source": [
    "train_data = None\n",
    "\n",
    "with open( \"train.tsv\", encoding=\"utf-8\") as f:\n",
    "  train_data = f.readlines()"
   ]
  },
  {
   "cell_type": "code",
   "execution_count": 36,
   "id": "79d46d72",
   "metadata": {},
   "outputs": [],
   "source": [
    "test_data = None\n",
    "\n",
    "with open( \"test.tsv\", encoding=\"utf-8\") as f:\n",
    "  test_data = f.readlines()"
   ]
  },
  {
   "cell_type": "code",
   "execution_count": 37,
   "id": "8d45fd00",
   "metadata": {},
   "outputs": [],
   "source": [
    "valid_data = None\n",
    "\n",
    "with open( \"val.tsv\", encoding=\"utf-8\") as f:\n",
    "  valid_data = f.readlines()"
   ]
  },
  {
   "cell_type": "code",
   "execution_count": 38,
   "id": "d62f8e95",
   "metadata": {},
   "outputs": [
    {
     "name": "stderr",
     "output_type": "stream",
     "text": [
      "\n",
      "KeyboardInterrupt\n",
      "\n"
     ]
    }
   ],
   "source": [
    "vocab=[]\n",
    "for i in range(len(train_data)):\n",
    "    curr_data = train_data[i].split()\n",
    "    if curr_data[1] not in vocab:\n",
    "        vocab.append(curr_data[1])"
   ]
  },
  {
   "cell_type": "code",
   "execution_count": null,
   "id": "3e13bc70",
   "metadata": {},
   "outputs": [],
   "source": [
    "for i in range(len(test_data)):\n",
    "    curr_data = test_data[i].split()\n",
    "    if curr_data[1] not in vocab:\n",
    "        vocab.append(curr_data[1])"
   ]
  },
  {
   "cell_type": "code",
   "execution_count": null,
   "id": "4e2f625e",
   "metadata": {},
   "outputs": [],
   "source": [
    "for i in range(len(valid_data)):\n",
    "    curr_data = valid_data[i].split()\n",
    "    if curr_data[1] not in vocab:\n",
    "        vocab.append(curr_data[1])"
   ]
  },
  {
   "cell_type": "code",
   "execution_count": null,
   "id": "ceded93a",
   "metadata": {},
   "outputs": [],
   "source": [
    "\n",
    "idx_to_vocab = {i:value.strip() for i, value in enumerate(vocab)}\n",
    "vocab_to_idx = {value:key for key, value in idx_to_vocab.items()}"
   ]
  },
  {
   "cell_type": "code",
   "execution_count": 22,
   "id": "43d3717a",
   "metadata": {},
   "outputs": [
    {
     "data": {
      "text/plain": [
       "['HindiSeg/train/10/259/1.jpg', 'हांगकांग']"
      ]
     },
     "execution_count": 22,
     "metadata": {},
     "output_type": "execute_result"
    }
   ],
   "source": [
    "train_data[0].split()"
   ]
  },
  {
   "cell_type": "code",
   "execution_count": 7,
   "id": "877b6bd3",
   "metadata": {},
   "outputs": [],
   "source": [
    "train_data1=[]\n",
    "train_data2=[]\n",
    "for i in range(len(train_data)):\n",
    "    curr_data = train_data[i].split()\n",
    "    train_data1.append(curr_data[0])\n",
    "    train_data2.append(vocab_to_idx[curr_data[1]])"
   ]
  },
  {
   "cell_type": "code",
   "execution_count": 8,
   "id": "0119f8f6",
   "metadata": {},
   "outputs": [
    {
     "data": {
      "text/plain": [
       "5141"
      ]
     },
     "execution_count": 8,
     "metadata": {},
     "output_type": "execute_result"
    }
   ],
   "source": [
    "train_data2[0]"
   ]
  },
  {
   "cell_type": "code",
   "execution_count": 33,
   "id": "19016f7d",
   "metadata": {},
   "outputs": [
    {
     "data": {
      "text/plain": [
       "207"
      ]
     },
     "execution_count": 33,
     "metadata": {},
     "output_type": "execute_result"
    }
   ],
   "source": [
    "s"
   ]
  },
  {
   "cell_type": "code",
   "execution_count": 34,
   "id": "7d7b989a",
   "metadata": {},
   "outputs": [
    {
     "data": {
      "text/plain": [
       "300000"
      ]
     },
     "execution_count": 34,
     "metadata": {},
     "output_type": "execute_result"
    }
   ],
   "source": [
    "len(test_data)"
   ]
  },
  {
   "cell_type": "code",
   "execution_count": 26,
   "id": "ba110bfe",
   "metadata": {},
   "outputs": [
    {
     "ename": "KeyError",
     "evalue": "'संघर्षयात्रेचा\\n'",
     "output_type": "error",
     "traceback": [
      "\u001b[1;31m---------------------------------------------------------------------------\u001b[0m",
      "\u001b[1;31mKeyError\u001b[0m                                  Traceback (most recent call last)",
      "Cell \u001b[1;32mIn[26], line 6\u001b[0m\n\u001b[0;32m      4\u001b[0m curr_data \u001b[38;5;241m=\u001b[39m test_data[i]\u001b[38;5;241m.\u001b[39msplit()\n\u001b[0;32m      5\u001b[0m test_data1\u001b[38;5;241m.\u001b[39mappend(curr_data[\u001b[38;5;241m0\u001b[39m])\n\u001b[1;32m----> 6\u001b[0m test_data2\u001b[38;5;241m.\u001b[39mappend(\u001b[43mvocab_to_idx\u001b[49m\u001b[43m[\u001b[49m\u001b[43mcurr_data\u001b[49m\u001b[43m[\u001b[49m\u001b[38;5;241;43m1\u001b[39;49m\u001b[43m]\u001b[49m\u001b[38;5;241;43m+\u001b[39;49m\u001b[38;5;124;43m'\u001b[39;49m\u001b[38;5;130;43;01m\\n\u001b[39;49;00m\u001b[38;5;124;43m'\u001b[39;49m\u001b[43m]\u001b[49m)\n",
      "\u001b[1;31mKeyError\u001b[0m: 'संघर्षयात्रेचा\\n'"
     ]
    }
   ],
   "source": [
    "test_data1=[]\n",
    "test_data2=[]\n",
    "for i in range(len(test_data)):\n",
    "    curr_data = test_data[i].split()\n",
    "    test_data1.append(curr_data[0])\n",
    "    test_data2.append(vocab_to_idx[curr_data[1]+'\\n'])"
   ]
  },
  {
   "cell_type": "code",
   "execution_count": 23,
   "id": "497bdb6f",
   "metadata": {},
   "outputs": [],
   "source": [
    "valid_data1=[]\n",
    "valid_data2=[]\n",
    "for i in range(len(valid_data)):\n",
    "    curr_data = valid_data[i].split()\n",
    "    valid_data1.append(curr_data[0])\n",
    "    valid_data2.append(vocab_to_idx[curr_data[1]])"
   ]
  },
  {
   "cell_type": "code",
   "execution_count": 17,
   "id": "2dd53afa",
   "metadata": {},
   "outputs": [],
   "source": [
    "file1=open('new_traint.txt','w')"
   ]
  },
  {
   "cell_type": "code",
   "execution_count": 18,
   "id": "cdddff07",
   "metadata": {},
   "outputs": [],
   "source": [
    "for i in range(len(train_data1)):\n",
    "    file1.write(train_data1[i])\n",
    "    file1.write(\" \")\n",
    "    file1.write(str(train_data2[i]))\n",
    "    file1.write(\"\\n\")"
   ]
  },
  {
   "cell_type": "code",
   "execution_count": 19,
   "id": "1ee23181",
   "metadata": {},
   "outputs": [],
   "source": [
    "file1.close()"
   ]
  },
  {
   "cell_type": "code",
   "execution_count": null,
   "id": "125c8482",
   "metadata": {},
   "outputs": [],
   "source": []
  },
  {
   "cell_type": "code",
   "execution_count": 24,
   "id": "7dd712a5",
   "metadata": {},
   "outputs": [],
   "source": [
    "file2=open('new_testt.txt','w')"
   ]
  },
  {
   "cell_type": "code",
   "execution_count": 25,
   "id": "19157d33",
   "metadata": {},
   "outputs": [],
   "source": [
    "for i in range(len(test_data1)):\n",
    "    file2.write(test_data1[i])\n",
    "    file2.write(\" \")\n",
    "    file2.write(str(test_data2[i]))\n",
    "    file2.write(\"\\n\")"
   ]
  },
  {
   "cell_type": "code",
   "execution_count": 26,
   "id": "9e209f5e",
   "metadata": {},
   "outputs": [],
   "source": [
    "file2.close()"
   ]
  },
  {
   "cell_type": "code",
   "execution_count": 27,
   "id": "77f86a13",
   "metadata": {},
   "outputs": [],
   "source": [
    "file3=open('new_valt.txt','w')"
   ]
  },
  {
   "cell_type": "code",
   "execution_count": 28,
   "id": "845dedb8",
   "metadata": {},
   "outputs": [],
   "source": [
    "for i in range(len(valid_data1)):\n",
    "    file3.write(valid_data1[i])\n",
    "    file3.write(\" \")\n",
    "    file3.write(str(valid_data2[i]))\n",
    "    file3.write(\"\\n\")"
   ]
  },
  {
   "cell_type": "code",
   "execution_count": 29,
   "id": "9baf87e0",
   "metadata": {},
   "outputs": [],
   "source": [
    "file3.close()"
   ]
  },
  {
   "cell_type": "code",
   "execution_count": null,
   "id": "4f0af773",
   "metadata": {},
   "outputs": [],
   "source": []
  },
  {
   "cell_type": "code",
   "execution_count": 30,
   "id": "1ddf8e4c",
   "metadata": {},
   "outputs": [
    {
     "data": {
      "text/plain": [
       "'ఓవర్'"
      ]
     },
     "execution_count": 30,
     "metadata": {},
     "output_type": "execute_result"
    }
   ],
   "source": [
    "idx_to_vocab[5141]"
   ]
  },
  {
   "cell_type": "code",
   "execution_count": 31,
   "id": "eb9f0c9d",
   "metadata": {},
   "outputs": [
    {
     "data": {
      "text/plain": [
       "'ఆస్తిక'"
      ]
     },
     "execution_count": 31,
     "metadata": {},
     "output_type": "execute_result"
    }
   ],
   "source": [
    "idx_to_vocab[4511]"
   ]
  },
  {
   "cell_type": "code",
   "execution_count": 32,
   "id": "95ade618",
   "metadata": {},
   "outputs": [
    {
     "data": {
      "text/plain": [
       "'బాలుడ్ని'"
      ]
     },
     "execution_count": 32,
     "metadata": {},
     "output_type": "execute_result"
    }
   ],
   "source": [
    "idx_to_vocab[3090]"
   ]
  },
  {
   "cell_type": "code",
   "execution_count": null,
   "id": "f7c2f94f",
   "metadata": {},
   "outputs": [],
   "source": []
  }
 ],
 "metadata": {
  "kernelspec": {
   "display_name": "Python 3 (ipykernel)",
   "language": "python",
   "name": "python3"
  },
  "language_info": {
   "codemirror_mode": {
    "name": "ipython",
    "version": 3
   },
   "file_extension": ".py",
   "mimetype": "text/x-python",
   "name": "python",
   "nbconvert_exporter": "python",
   "pygments_lexer": "ipython3",
   "version": "3.10.9"
  }
 },
 "nbformat": 4,
 "nbformat_minor": 5
}
